{
 "cells": [
  {
   "cell_type": "code",
   "execution_count": 0,
   "metadata": {
    "application/vnd.databricks.v1+cell": {
     "cellMetadata": {
      "byteLimit": 2048000,
      "rowLimit": 10000
     },
     "inputWidgets": {},
     "nuid": "781561b3-42a1-4e5d-91d3-07c05fec1829",
     "showTitle": false,
     "title": ""
    }
   },
   "outputs": [],
   "source": [
    "from pyspark.sql import SparkSession\n",
    "from pyspark.sql.functions import split, col, when, regexp_replace, from_unixtime\n",
    "from pyspark.sql.functions import to_date, col, date_format,current_timestamp\n",
    "\n",
    "spark = SparkSession.builder.appName(\"MeuAppSpark\").getOrCreate()\n",
    "df_occupations = spark.read.csv('/FileStore/tables/occupation.csv', inferSchema = True)\n",
    "df_movies = spark.read.csv('/FileStore/tables/movies.csv', inferSchema = True)\n",
    "df_ratings = spark.read.csv('/FileStore/tables/ratings.csv', inferSchema = True,sep=\";\")\n",
    "df_users = spark.read.csv('/FileStore/tables/users.csv', header=False)"
   ]
  },
  {
   "cell_type": "code",
   "execution_count": 0,
   "metadata": {
    "application/vnd.databricks.v1+cell": {
     "cellMetadata": {
      "byteLimit": 2048000,
      "rowLimit": 10000
     },
     "inputWidgets": {},
     "nuid": "6dae3531-4cd2-4711-ac4b-df5356140e6a",
     "showTitle": false,
     "title": ""
    }
   },
   "outputs": [
    {
     "output_type": "stream",
     "name": "stdout",
     "output_type": "stream",
     "text": [
      "+------------------+\n|               _c0|\n+------------------+\n|1;1193;5;978300760|\n| 1;661;3;978302109|\n| 1;914;3;978301968|\n|1;3408;4;978300275|\n|1;2355;5;978824291|\n|1;1197;3;978302268|\n|1;1287;5;978302039|\n|1;2804;5;978300719|\n| 1;594;4;978302268|\n| 1;919;4;978301368|\n| 1;595;5;978824268|\n| 1;938;4;978301752|\n|1;2398;4;978302281|\n|1;2918;4;978302124|\n|1;1035;5;978301753|\n|1;2791;4;978302188|\n|1;2687;3;978824268|\n|1;2018;4;978301777|\n|1;3105;5;978301713|\n|1;2797;4;978302039|\n+------------------+\nonly showing top 20 rows\n\n+--------------------+\n|                 _c0|\n+--------------------+\n|1;Toy Story (1995...|\n|2;Jumanji (1995);...|\n|3;Grumpier Old Me...|\n|4;Waiting to Exha...|\n|5;Father of the B...|\n|6;Heat (1995);Act...|\n|7;Sabrina (1995);...|\n|8;Tom and Huck (1...|\n|9;Sudden Death (1...|\n|10;GoldenEye (199...|\n|11;American Presi...|\n|12;Dracula: Dead ...|\n|13;Balto (1995);A...|\n|14;Nixon (1995);D...|\n|15;Cutthroat Isla...|\n|16;Casino (1995);...|\n|17;Sense and Sens...|\n|18;Four Rooms (19...|\n|19;Ace Ventura: W...|\n|20;Money Train (1...|\n+--------------------+\nonly showing top 20 rows\n\n+--------------------+\n|                 _c0|\n+--------------------+\n|              0;othe|\n| 1;academic/educator|\n|            2;artist|\n|    3;clerical/admin|\n|4;college/grad st...|\n|  5;customer service|\n|6;doctor/health care|\n|7;executive/manag...|\n|            8;farmer|\n|         9;homemaker|\n|     10;K-12 student|\n|           11;lawyer|\n|       12;programmer|\n|          13;retired|\n|  14;sales/marketing|\n|        15;scientist|\n|    16;self-employed|\n|17;technician/eng...|\n|18;tradesman/craf...|\n|       19;unemployed|\n+--------------------+\nonly showing top 20 rows\n\n+----------------+\n|             _c0|\n+----------------+\n|  1;F;1;10;48067|\n| 2;M;56;16;70072|\n| 3;M;25;15;55117|\n|  4;M;45;7;02460|\n| 5;M;25;20;55455|\n|  6;F;50;9;55117|\n|  7;M;35;1;06810|\n| 8;M;25;12;11413|\n| 9;M;25;17;61614|\n| 10;F;35;1;95370|\n| 11;F;25;1;04093|\n|12;M;25;12;32793|\n| 13;M;45;1;93304|\n| 14;M;35;0;60126|\n| 15;M;25;7;22903|\n|   ;F;35;0;20670|\n| 17;M;50;1;95350|\n| 18;F;18;3;95825|\n| 19;M;1;10;48073|\n|20;M;25;14;55113|\n+----------------+\nonly showing top 20 rows\n\n"
     ]
    }
   ],
   "source": [
    "#Retirando informações distintas MOCK encontradas no dataset\n",
    "from pyspark.sql.functions import col\n",
    "df_users = df_users.filter(~(col(\"_c0\").contains(\"MOCK\") | col(\"_c0\").contains(\"mock\")))\n",
    "\n",
    "df_ratings.show() #Não possui nome da coluna\n",
    "df_movies.show() #Não possui nome da coluna\n",
    "df_occupations.show()\n",
    "df_users.show()\n"
   ]
  },
  {
   "cell_type": "code",
   "execution_count": 0,
   "metadata": {
    "application/vnd.databricks.v1+cell": {
     "cellMetadata": {
      "byteLimit": 2048000,
      "rowLimit": 10000
     },
     "inputWidgets": {},
     "nuid": "5dc31dc9-2c0c-475e-a39b-380dc17a6c77",
     "showTitle": false,
     "title": ""
    }
   },
   "outputs": [
    {
     "output_type": "stream",
     "name": "stdout",
     "output_type": "stream",
     "text": [
      "+----------+----+-----+-----------+-------------+\n|id_usuario|Sexo|Idade|ocupacao_id|Codigo Postal|\n+----------+----+-----+-----------+-------------+\n|         1|   F|    1|         10|        48067|\n|         2|   M|   56|         16|        70072|\n|         3|   M|   25|         15|        55117|\n|         4|   M|   45|          7|        02460|\n|         5|   M|   25|         20|        55455|\n|         6|   F|   50|          9|        55117|\n|         7|   M|   35|          1|        06810|\n|         8|   M|   25|         12|        11413|\n|         9|   M|   25|         17|        61614|\n|        10|   F|   35|          1|        95370|\n|        11|   F|   25|          1|        04093|\n|        12|   M|   25|         12|        32793|\n|        13|   M|   45|          1|        93304|\n|        14|   M|   35|          0|        60126|\n|        15|   M|   25|          7|        22903|\n|          |   F|   35|          0|        20670|\n|        17|   M|   50|          1|        95350|\n|        18|   F|   18|          3|        95825|\n|        19|   M|    1|         10|        48073|\n|        20|   M|   25|         14|        55113|\n+----------+----+-----+-----------+-------------+\nonly showing top 20 rows\n\n+----------+--------+-------------+---------+\n|usuario_id|movie_id|Classificacao|Data/hora|\n+----------+--------+-------------+---------+\n|         1|    1193|            5|978300760|\n|         1|     661|            3|978302109|\n|         1|     914|            3|978301968|\n|         1|    3408|            4|978300275|\n|         1|    2355|            5|978824291|\n|         1|    1197|            3|978302268|\n|         1|    1287|            5|978302039|\n|         1|    2804|            5|978300719|\n|         1|     594|            4|978302268|\n|         1|     919|            4|978301368|\n|         1|     595|            5|978824268|\n|         1|     938|            4|978301752|\n|         1|    2398|            4|978302281|\n|         1|    2918|            4|978302124|\n|         1|    1035|            5|978301753|\n|         1|    2791|            4|978302188|\n|         1|    2687|            3|978824268|\n|         1|    2018|            4|978301777|\n|         1|    3105|            5|978301713|\n|         1|    2797|            4|978302039|\n+----------+--------+-------------+---------+\nonly showing top 20 rows\n\n+--------+--------------------+--------------------+\n|id_movie|              Titulo|             Generos|\n+--------+--------------------+--------------------+\n|       1|    Toy Story (1995)|Animation|Childre...|\n|       2|      Jumanji (1995)|Adventure|Childre...|\n|       3|Grumpier Old Men ...|      Comedy|Romance|\n|       4|Waiting to Exhale...|        Comedy|Drama|\n|       5|Father of the Bri...|              Comedy|\n|       6|         Heat (1995)|Action|Crime|Thri...|\n|       7|      Sabrina (1995)|      Comedy|Romance|\n|       8| Tom and Huck (1995)|Adventure|Children's|\n|       9| Sudden Death (1995)|              Action|\n|      10|    GoldenEye (1995)|Action|Adventure|...|\n|      11|  American President|                    |\n|      12|Dracula: Dead and...|       Comedy|Horror|\n|      13|        Balto (1995)|Animation|Children's|\n|      14|        Nixon (1995)|               Drama|\n|      15|Cutthroat Island ...|Action|Adventure|...|\n|      16|       Casino (1995)|      Drama|Thriller|\n|      17|Sense and Sensibi...|       Drama|Romance|\n|      18|   Four Rooms (1995)|            Thriller|\n|      19|Ace Ventura: When...|              Comedy|\n|      20|  Money Train (1995)|              Action|\n+--------+--------------------+--------------------+\nonly showing top 20 rows\n\n+--------+--------------------+--------------------+\n|id_movie|              Titulo|             Generos|\n+--------+--------------------+--------------------+\n|       1|    Toy Story (1995)|Animation|Childre...|\n|       2|      Jumanji (1995)|Adventure|Childre...|\n|       3|Grumpier Old Men ...|      Comedy|Romance|\n|       4|Waiting to Exhale...|        Comedy|Drama|\n|       5|Father of the Bri...|              Comedy|\n|       6|         Heat (1995)|Action|Crime|Thri...|\n|       7|      Sabrina (1995)|      Comedy|Romance|\n|       8| Tom and Huck (1995)|Adventure|Children's|\n|       9| Sudden Death (1995)|              Action|\n|      10|    GoldenEye (1995)|Action|Adventure|...|\n|      11|  American President|                    |\n|      12|Dracula: Dead and...|       Comedy|Horror|\n|      13|        Balto (1995)|Animation|Children's|\n|      14|        Nixon (1995)|               Drama|\n|      15|Cutthroat Island ...|Action|Adventure|...|\n|      16|       Casino (1995)|      Drama|Thriller|\n|      17|Sense and Sensibi...|       Drama|Romance|\n|      18|   Four Rooms (1995)|            Thriller|\n|      19|Ace Ventura: When...|              Comedy|\n|      20|  Money Train (1995)|              Action|\n+--------+--------------------+--------------------+\nonly showing top 20 rows\n\n"
     ]
    }
   ],
   "source": [
    "# Estruturando as colunas e as selecionando para aprecer nas tabelas\n",
    "\n",
    "from pyspark.sql.functions import col\n",
    "df_users = df_users.filter(~(col(\"_c0\").contains(\"MOCK\") | col(\"_c0\").contains(\"mock\")))\n",
    "df_users = df_users \\\n",
    "    .withColumn(\"id_usuario\", split(col(\"_c0\"), \";\")[0]) \\\n",
    "    .withColumn(\"Sexo\", split(col(\"_c0\"), \";\")[1]) \\\n",
    "    .withColumn(\"Idade\", split(col(\"_c0\"), \";\")[2]) \\\n",
    "    .withColumn(\"ocupacao_id\", split(col(\"_c0\"), \";\")[3]) \\\n",
    "    .withColumn(\"Codigo Postal\", split(col(\"_c0\"), \";\")[4])\n",
    "\n",
    "colunas_desejadas = [\"id_usuario\",\"Sexo\",\"Idade\",\"ocupacao_id\",\"Codigo Postal\"]\n",
    "\n",
    "df_users = df_users.select(colunas_desejadas)\n",
    "df_users.show()\n",
    "\n",
    "df_ratings = df_ratings \\\n",
    "    .withColumn(\"usuario_id\",split(col(\"_c0\"),\";\")[0])\\\n",
    "    .withColumn(\"movie_id\", split(col(\"_c0\"),\";\")[1])\\\n",
    "    .withColumn(\"Classificacao\",split(col(\"_c0\"),\";\")[2])\\\n",
    "    .withColumn(\"Data/hora\",split(col(\"_c0\"),\";\")[3])\n",
    "\n",
    "colunas_desejRatings = [\"usuario_id\",\"movie_id\",\"Classificacao\",\"Data/hora\"] \n",
    "df_ratings = df_ratings.select(colunas_desejRatings)\n",
    "df_ratings.show()\n",
    "\n",
    "df_movies = df_movies\\\n",
    "    .withColumn(\"id_movie\",split(col(\"_c0\"),\";\")[0])\\\n",
    "    .withColumn(\"Titulo\",split(col(\"_c0\"),\";\")[1])\\\n",
    "    .withColumn(\"Generos\",split(col(\"_c0\"),\";\")[2])\n",
    "\n",
    "colunas_desMovie = [\"id_movie\",\"Titulo\",\"Generos\"]\n",
    "df_movies = df_movies.select(colunas_desMovie)\n",
    "df_movies.show()\n",
    "\n",
    "df_occupations = df_occupations\\\n",
    "    .withColumn(\"id_ocu\",split(col(\"_c0\"),\";\")[0])\\\n",
    "    .withColumn(\"NomeOcupacao\",split(col(\"_c0\"),\";\")[1])\\\n",
    "    \n",
    "colunas_desOcup = [\"id_ocu\",\"NomeOcupacao\"]\n",
    "df_occupations = df_occupations.select(colunas_desOcup)\n",
    "df_movies.show()"
   ]
  },
  {
   "cell_type": "code",
   "execution_count": 0,
   "metadata": {
    "application/vnd.databricks.v1+cell": {
     "cellMetadata": {
      "byteLimit": 2048000,
      "rowLimit": 10000
     },
     "inputWidgets": {},
     "nuid": "19204a92-32a1-4598-a837-a014afda166f",
     "showTitle": false,
     "title": ""
    }
   },
   "outputs": [
    {
     "output_type": "stream",
     "name": "stdout",
     "output_type": "stream",
     "text": [
      "+----------+---------+-----+-----------+-------------+\n|id_usuario|     Sexo|Idade|ocupacao_id|Codigo Postal|\n+----------+---------+-----+-----------+-------------+\n|         1| Feminino|    1|         10|        48067|\n|         2|Masculino|   56|         16|        70072|\n|         3|Masculino|   25|         15|        55117|\n|         4|Masculino|   45|          7|        02460|\n|         5|Masculino|   25|         20|        55455|\n|         6| Feminino|   50|          9|        55117|\n|         7|Masculino|   35|          1|        06810|\n|         8|Masculino|   25|         12|        11413|\n|         9|Masculino|   25|         17|        61614|\n|        10| Feminino|   35|          1|        95370|\n|        11| Feminino|   25|          1|        04093|\n|        12|Masculino|   25|         12|        32793|\n|        13|Masculino|   45|          1|        93304|\n|        14|Masculino|   35|          0|        60126|\n|        15|Masculino|   25|          7|        22903|\n|          | Feminino|   35|          0|        20670|\n|        17|Masculino|   50|          1|        95350|\n|        18| Feminino|   18|          3|        95825|\n|        19|Masculino|    1|         10|        48073|\n|        20|Masculino|   25|         14|        55113|\n+----------+---------+-----+-----------+-------------+\nonly showing top 20 rows\n\n"
     ]
    }
   ],
   "source": [
    "#Alterações propostas no desafio\n",
    "df_movies = df_movies.withColumn('id_movie', regexp_replace(col('id_movie'), '\"', '')) #Replace valores \"\" \n",
    "df_users = df_users.withColumn(\"Sexo\", when(col(\"Sexo\") == \"M\",\"Masculino\").when(col(\"Sexo\")== \"F\",\"Feminino\").otherwise(col(\"Sexo\"))) #Alterando a coluna SEXO para nomes Feminino e Masculino\n",
    "df_users.show()"
   ]
  },
  {
   "cell_type": "code",
   "execution_count": 0,
   "metadata": {
    "application/vnd.databricks.v1+cell": {
     "cellMetadata": {
      "byteLimit": 2048000,
      "rowLimit": 10000
     },
     "inputWidgets": {},
     "nuid": "c649df83-f571-4c32-8f2a-53514be58529",
     "showTitle": false,
     "title": ""
    }
   },
   "outputs": [
    {
     "output_type": "stream",
     "name": "stdout",
     "output_type": "stream",
     "text": [
      "+----------+--------+-----+-------------+------+------------+-------------+--------+--------------------+--------------------+---------+\n|id_usuario|    Sexo|Idade|Codigo Postal|id_ocu|NomeOcupacao|Classificacao|id_movie|              Titulo|             Generos|Data/hora|\n+----------+--------+-----+-------------+------+------------+-------------+--------+--------------------+--------------------+---------+\n|         1|Feminino|    1|        48067|    10|K-12 student|            5|    1193|One Flew Over the...|               Drama|978300760|\n|         1|Feminino|    1|        48067|    10|K-12 student|            3|     661|James and the Gia...|Animation|Childre...|978302109|\n|         1|Feminino|    1|        48067|    10|K-12 student|            3|     914| My Fair Lady (1964)|     Musical|Romance|978301968|\n|         1|Feminino|    1|        48067|    10|K-12 student|            4|    3408|Erin Brockovich (...|               Drama|978300275|\n|         1|Feminino|    1|        48067|    10|K-12 student|            5|    2355|          Bug's Life|                    |978824291|\n|         1|Feminino|    1|        48067|    10|K-12 student|            3|    1197|      Princess Bride|                    |978302268|\n|         1|Feminino|    1|        48067|    10|K-12 student|            5|    1287|      Ben-Hur (1959)|Action|Adventure|...|978302039|\n|         1|Feminino|    1|        48067|    10|K-12 student|            5|    2804|     Christmas Story|                    |978300719|\n|         1|Feminino|    1|        48067|    10|K-12 student|            4|     594|Snow White and th...|Animation|Childre...|978302268|\n|         1|Feminino|    1|        48067|    10|K-12 student|            4|     919|        Wizard of Oz|                    |978301368|\n|         1|Feminino|    1|        48067|    10|K-12 student|            5|     595|Beauty and the Be...|Animation|Childre...|978824268|\n|         1|Feminino|    1|        48067|    10|K-12 student|            4|     938|         Gigi (1958)|             Musical|978301752|\n|         1|Feminino|    1|        48067|    10|K-12 student|            4|    2398|Miracle on 34th S...|               Drama|978302281|\n|         1|Feminino|    1|        48067|    10|K-12 student|            4|    2918|Ferris Bueller's ...|              Comedy|978302124|\n|         1|Feminino|    1|        48067|    10|K-12 student|            5|    1035|      Sound of Music|                    |978301753|\n|         1|Feminino|    1|        48067|    10|K-12 student|            4|    2791|    Airplane! (1980)|              Comedy|978302188|\n|         1|Feminino|    1|        48067|    10|K-12 student|            3|    2687|       Tarzan (1999)|Animation|Children's|978824268|\n|         1|Feminino|    1|        48067|    10|K-12 student|            4|    2018|        Bambi (1942)|Animation|Children's|978301777|\n|         1|Feminino|    1|        48067|    10|K-12 student|            5|    3105|   Awakenings (1990)|               Drama|978301713|\n|         1|Feminino|    1|        48067|    10|K-12 student|            4|    2797|          Big (1988)|      Comedy|Fantasy|978302039|\n+----------+--------+-----+-------------+------+------------+-------------+--------+--------------------+--------------------+---------+\nonly showing top 20 rows\n\n"
     ]
    }
   ],
   "source": [
    "#Junção\n",
    "# Realize a primeira junção entre df_users, df_occupations,df_ratings and df_movie\n",
    "df_table = df_users.join(df_occupations, df_users.ocupacao_id == df_occupations.id_ocu, 'inner')\n",
    "df_table = df_table.join(df_ratings, df_table.id_usuario == df_ratings.usuario_id, 'inner')\n",
    "df_table = df_table.join(df_movies, df_movies.id_movie == df_table.movie_id,'inner')\n",
    "\n",
    "#Limpando os dados de acordo com os requisitos da coluna classificação\n",
    "df_table = df_table.filter(col(\"CLASSIFICACAO\").isNotNull())\n",
    "\n",
    "#Selecionando as colunas\n",
    "columnsSelect= ['id_usuario','Sexo','Idade','Codigo Postal','id_ocu','NomeOcupacao','Classificacao','id_movie','Titulo','Generos','Data/hora',]\n",
    "df_table = df_table.select(columnsSelect)\n",
    "df_table.show()"
   ]
  },
  {
   "cell_type": "code",
   "execution_count": 0,
   "metadata": {
    "application/vnd.databricks.v1+cell": {
     "cellMetadata": {
      "byteLimit": 2048000,
      "rowLimit": 10000
     },
     "inputWidgets": {},
     "nuid": "47640a78-d915-4bb3-bda6-1064976569c4",
     "showTitle": false,
     "title": ""
    }
   },
   "outputs": [
    {
     "output_type": "stream",
     "name": "stdout",
     "output_type": "stream",
     "text": [
      "+----------+--------+-----+-------------+------+------------+-------------+--------+--------------------+--------------------+-------------+--------------------+\n|id_usuario|    Sexo|Idade|Codigo Postal|id_ocu|NomeOcupacao|Classificacao|id_movie|              Titulo|             Generos|dataformatada|       hora_execucao|\n+----------+--------+-----+-------------+------+------------+-------------+--------+--------------------+--------------------+-------------+--------------------+\n|         1|Feminino|    1|        48067|    10|K-12 student|            5|    1193|One Flew Over the...|               Drama|   2000-12-31|2023-09-14 17:42:...|\n|         1|Feminino|    1|        48067|    10|K-12 student|            3|     661|James and the Gia...|Animation|Childre...|   2000-12-31|2023-09-14 17:42:...|\n|         1|Feminino|    1|        48067|    10|K-12 student|            3|     914| My Fair Lady (1964)|     Musical|Romance|   2000-12-31|2023-09-14 17:42:...|\n|         1|Feminino|    1|        48067|    10|K-12 student|            4|    3408|Erin Brockovich (...|               Drama|   2000-12-31|2023-09-14 17:42:...|\n|         1|Feminino|    1|        48067|    10|K-12 student|            5|    2355|          Bug's Life|                    |   2001-01-06|2023-09-14 17:42:...|\n|         1|Feminino|    1|        48067|    10|K-12 student|            3|    1197|      Princess Bride|                    |   2000-12-31|2023-09-14 17:42:...|\n|         1|Feminino|    1|        48067|    10|K-12 student|            5|    1287|      Ben-Hur (1959)|Action|Adventure|...|   2000-12-31|2023-09-14 17:42:...|\n|         1|Feminino|    1|        48067|    10|K-12 student|            5|    2804|     Christmas Story|                    |   2000-12-31|2023-09-14 17:42:...|\n|         1|Feminino|    1|        48067|    10|K-12 student|            4|     594|Snow White and th...|Animation|Childre...|   2000-12-31|2023-09-14 17:42:...|\n|         1|Feminino|    1|        48067|    10|K-12 student|            4|     919|        Wizard of Oz|                    |   2000-12-31|2023-09-14 17:42:...|\n|         1|Feminino|    1|        48067|    10|K-12 student|            5|     595|Beauty and the Be...|Animation|Childre...|   2001-01-06|2023-09-14 17:42:...|\n|         1|Feminino|    1|        48067|    10|K-12 student|            4|     938|         Gigi (1958)|             Musical|   2000-12-31|2023-09-14 17:42:...|\n|         1|Feminino|    1|        48067|    10|K-12 student|            4|    2398|Miracle on 34th S...|               Drama|   2000-12-31|2023-09-14 17:42:...|\n|         1|Feminino|    1|        48067|    10|K-12 student|            4|    2918|Ferris Bueller's ...|              Comedy|   2000-12-31|2023-09-14 17:42:...|\n|         1|Feminino|    1|        48067|    10|K-12 student|            5|    1035|      Sound of Music|                    |   2000-12-31|2023-09-14 17:42:...|\n|         1|Feminino|    1|        48067|    10|K-12 student|            4|    2791|    Airplane! (1980)|              Comedy|   2000-12-31|2023-09-14 17:42:...|\n|         1|Feminino|    1|        48067|    10|K-12 student|            3|    2687|       Tarzan (1999)|Animation|Children's|   2001-01-06|2023-09-14 17:42:...|\n|         1|Feminino|    1|        48067|    10|K-12 student|            4|    2018|        Bambi (1942)|Animation|Children's|   2000-12-31|2023-09-14 17:42:...|\n|         1|Feminino|    1|        48067|    10|K-12 student|            5|    3105|   Awakenings (1990)|               Drama|   2000-12-31|2023-09-14 17:42:...|\n|         1|Feminino|    1|        48067|    10|K-12 student|            4|    2797|          Big (1988)|      Comedy|Fantasy|   2000-12-31|2023-09-14 17:42:...|\n+----------+--------+-----+-------------+------+------------+-------------+--------+--------------------+--------------------+-------------+--------------------+\nonly showing top 20 rows\n\n"
     ]
    }
   ],
   "source": [
    "# - A informação de data de notas de filmes deve estar em um formato legível (YYYY-MM-DD) ;\n",
    "# - Um novo campo com a data da execução do processo deve ser gerado para garantir a execução histórica do processo quando o mesmo for para produção;  \n",
    "# - Além disso, é necessário garantir que não haverá nenhum registro com a nota de filme nula, pois os mesmos não agregam valor à base;\n",
    "\n",
    "df_estruturado = df_table.withColumn(\"data/hora\", from_unixtime(col(\"Data/hora\"))) # transformando a coluna de segundos para timestamp\n",
    "\n",
    "df_estruturado = df_estruturado.withColumn(\"dataformatada\", date_format(col(\"Data/hora\"),\"yyyy-MM-dd\")) # Formatando a data para aparecer somente DATA\n",
    "\n",
    "df_estruturado = df_estruturado.withColumn(\"hora_execucao\", current_timestamp()) #inserindo um current_ para registrar a data e hora de execução de um processo \n",
    "\n",
    "df_estruturado = df_estruturado.na.drop(subset=[\"Classificacao\"]) #Removendo valores nulos da coluna de ratings cornforme solicitado\n",
    "\n",
    "# Exiba o DataFrame resultante\n",
    "colunas_selecionadas = ['id_usuario','Sexo','Idade','Codigo Postal','id_ocu','NomeOcupacao','Classificacao','id_movie','Titulo','Generos','dataformatada','hora_execucao']\n",
    "df_estruturado= df_estruturado.select(colunas_selecionadas)\n",
    "df_estruturado.show()"
   ]
  },
  {
   "cell_type": "code",
   "execution_count": 0,
   "metadata": {
    "application/vnd.databricks.v1+cell": {
     "cellMetadata": {
      "byteLimit": 2048000,
      "rowLimit": 10000
     },
     "inputWidgets": {},
     "nuid": "af732766-7a49-4c85-89dc-5d27d7ae0c13",
     "showTitle": false,
     "title": ""
    }
   },
   "outputs": [],
   "source": [
    "\n",
    "\n",
    "#Fazendo o particionamento dos dados conforme o Genero\n",
    "column_df_rg = ['Sexo','id_usuario','id_movie','Classificacao','dataformatada']\n",
    "finally_table_R = df_estruturado.select(column_df_rg)\n",
    "\n",
    "column_df_movie = ['Sexo','id_movie','Titulo','Generos']\n",
    "finally_table_M = df_estruturado.select(column_df_movie)\n",
    "\n",
    "column_df_user = ['Sexo','id_usuario','Idade','id_ocu','Codigo Postal']\n",
    "finally_table_U = df_estruturado.select(column_df_user)\n",
    "\n",
    "column_df_oc = ['Sexo','id_ocu','NomeOcupacao']\n",
    "finally_table_O = df_estruturado.select(column_df_oc)\n",
    "\n",
    "finally_table_R.write.csv(\"/Users/BlueShift/Desktop/DesafioAnaSpark/arquivo_R.csv\", header=True,mode=\"overwrite\")\n",
    "finally_table_M.write.csv(\"/Users/BlueShift/Desktop/DesafioAnaSpark/arquivo_M.csv\", header=True, mode=\"overwrite\")\n",
    "finally_table_U.write.csv(\"/Users/BlueShift/Desktop/DesafioAnaSpark/arquivo_U.csv\", header=True, mode=\"overwrite\")\n",
    "finally_table_O.write.csv(\"/Users/BlueShift/Desktop/DesafioAnaSpark/arquivo_O.csv\", header=True, mode=\"overwrite\")\n",
    "\n"
   ]
  },
  {
   "cell_type": "code",
   "execution_count": 0,
   "metadata": {
    "application/vnd.databricks.v1+cell": {
     "cellMetadata": {
      "byteLimit": 2048000,
      "rowLimit": 10000
     },
     "inputWidgets": {},
     "nuid": "6ca8f11c-2719-43ac-90c3-836956e0a681",
     "showTitle": false,
     "title": ""
    }
   },
   "outputs": [
    {
     "output_type": "stream",
     "name": "stdout",
     "output_type": "stream",
     "text": [
      "+--------+------------+-------------+--------------------+-------------+\n|    Sexo|NomeOcupacao|Classificacao|             Generos|dataformatada|\n+--------+------------+-------------+--------------------+-------------+\n|Feminino|K-12 student|            5|               Drama|   2000-12-31|\n|Feminino|K-12 student|            3|Animation|Childre...|   2000-12-31|\n|Feminino|K-12 student|            3|     Musical|Romance|   2000-12-31|\n|Feminino|K-12 student|            4|               Drama|   2000-12-31|\n|Feminino|K-12 student|            5|                    |   2001-01-06|\n|Feminino|K-12 student|            3|                    |   2000-12-31|\n|Feminino|K-12 student|            5|Action|Adventure|...|   2000-12-31|\n|Feminino|K-12 student|            5|                    |   2000-12-31|\n|Feminino|K-12 student|            4|Animation|Childre...|   2000-12-31|\n|Feminino|K-12 student|            4|                    |   2000-12-31|\n|Feminino|K-12 student|            5|Animation|Childre...|   2001-01-06|\n|Feminino|K-12 student|            4|             Musical|   2000-12-31|\n|Feminino|K-12 student|            4|               Drama|   2000-12-31|\n|Feminino|K-12 student|            4|              Comedy|   2000-12-31|\n|Feminino|K-12 student|            5|                    |   2000-12-31|\n|Feminino|K-12 student|            4|              Comedy|   2000-12-31|\n|Feminino|K-12 student|            3|Animation|Children's|   2001-01-06|\n|Feminino|K-12 student|            4|Animation|Children's|   2000-12-31|\n|Feminino|K-12 student|            5|               Drama|   2000-12-31|\n|Feminino|K-12 student|            4|      Comedy|Fantasy|   2000-12-31|\n+--------+------------+-------------+--------------------+-------------+\nonly showing top 20 rows\n\n"
     ]
    }
   ],
   "source": [
    "#Selecionando as colunas para o database final para as analises das informações\n",
    "selectcolumns = ['Sexo','NomeOcupacao','Classificacao','Generos','dataformatada']\n",
    "df_Analise =  df_estruturado.select(selectcolumns)\n",
    "df_Analise.show()"
   ]
  },
  {
   "cell_type": "code",
   "execution_count": 0,
   "metadata": {
    "application/vnd.databricks.v1+cell": {
     "cellMetadata": {
      "byteLimit": 2048000,
      "rowLimit": 10000
     },
     "inputWidgets": {},
     "nuid": "96a2de06-ee76-4044-b14f-798bcf31e14d",
     "showTitle": false,
     "title": ""
    }
   },
   "outputs": [
    {
     "output_type": "stream",
     "name": "stdout",
     "output_type": "stream",
     "text": [
      "+-----------------+\n|QTD_CLASSIFICACAO|\n+-----------------+\n|           999002|\n+-----------------+\n\n"
     ]
    }
   ],
   "source": [
    "# Registrar o DataFrame como uma tabela temporária\n",
    "df_Analise.createOrReplaceTempView(\"tabela_temporaria\")\n",
    "\n",
    "# 1- Qual o total de registros contidos na nova base?\n",
    "resultado = spark.sql(\"SELECT count('Classificacao') AS QTD_CLASSIFICACAO FROM tabela_temporaria\")\n",
    "resultado.show()\n"
   ]
  },
  {
   "cell_type": "code",
   "execution_count": 0,
   "metadata": {
    "application/vnd.databricks.v1+cell": {
     "cellMetadata": {
      "byteLimit": 2048000,
      "rowLimit": 10000
     },
     "inputWidgets": {},
     "nuid": "97563a44-1cf1-4bfa-8ea5-c962ae2fc44f",
     "showTitle": false,
     "title": ""
    }
   },
   "outputs": [
    {
     "output_type": "stream",
     "name": "stdout",
     "output_type": "stream",
     "text": [
      "+---------+-------------+\n|     SEXO|QTD_AVALIACAO|\n+---------+-------------+\n|Masculino|       752827|\n| Feminino|       246175|\n+---------+-------------+\n\n"
     ]
    }
   ],
   "source": [
    "#2-Quantos filmes distintos foram avaliados por mulheres e quantos foram avaliados por homens?\n",
    "Filmes = spark.sql(\"SELECT SEXO,COUNT('CLASSIFICACAO') AS QTD_AVALIACAO FROM TABELA_TEMPORARIA GROUP BY SEXO ORDER BY COUNT('CLASSIFICACAO') DESC\")\n",
    "Filmes.show()"
   ]
  },
  {
   "cell_type": "code",
   "execution_count": 0,
   "metadata": {
    "application/vnd.databricks.v1+cell": {
     "cellMetadata": {
      "byteLimit": 2048000,
      "rowLimit": 10000
     },
     "inputWidgets": {},
     "nuid": "008e2445-e4af-4d35-a772-82448e2ff20b",
     "showTitle": false,
     "title": ""
    }
   },
   "outputs": [
    {
     "output_type": "stream",
     "name": "stdout",
     "output_type": "stream",
     "text": [
      "+--------+--------------+\n|    SEXO|QTD_AVALIACOES|\n+--------+--------------+\n|Feminino|         34353|\n+--------+--------------+\n\n"
     ]
    }
   ],
   "source": [
    "#3 -Quantos filmes de ação foram avaliados por mulheres?\n",
    "filmes_acao = spark.sql(\"SELECT SEXO, COUNT('Classificacao'),Generos as media FROM TABELA_TEMPORARIA WHERE Generos LIKE '%Action%' AND SEXO = 'Feminino'\"\n",
    "                        \"group by SEXO, GENEROS\")\n",
    "#filmes_acao.show()\n",
    "\n",
    "filmesAvaliados = spark.sql(\"SELECT SEXO, COUNT('Classificacao') as QTD_AVALIACOES FROM TABELA_TEMPORARIA WHERE Generos LIKE '%Action%' AND SEXO = 'Feminino'\"\n",
    "                        \"group by SEXO\")\n",
    "filmesAvaliados.show()"
   ]
  },
  {
   "cell_type": "code",
   "execution_count": 0,
   "metadata": {
    "application/vnd.databricks.v1+cell": {
     "cellMetadata": {
      "byteLimit": 2048000,
      "rowLimit": 10000
     },
     "inputWidgets": {},
     "nuid": "fc251bee-13ab-4d00-bab4-982e44e91be8",
     "showTitle": false,
     "title": ""
    }
   },
   "outputs": [
    {
     "output_type": "stream",
     "name": "stdout",
     "output_type": "stream",
     "text": [
      "+---------+-------------+\n|     SEXO|QTD_AVALIACAO|\n+---------+-------------+\n|Masculino|       752827|\n+---------+-------------+\n\n"
     ]
    }
   ],
   "source": [
    "#4-Quantos filmes de romance foram avaliados por homens?\n",
    "filmeRomance = spark.sql(\"SELECT SEXO, COUNT(CLASSIFICACAO) AS QTD_AVALIACAO FROM TABELA_TEMPORARIA WHERE SEXO = 'Masculino' GROUP BY SEXO\")\n",
    "filmeRomance.show()"
   ]
  },
  {
   "cell_type": "code",
   "execution_count": 0,
   "metadata": {
    "application/vnd.databricks.v1+cell": {
     "cellMetadata": {
      "byteLimit": 2048000,
      "rowLimit": 10000
     },
     "inputWidgets": {},
     "nuid": "69a12390-36e5-4c39-b7b9-88ff42d0863a",
     "showTitle": false,
     "title": ""
    }
   },
   "outputs": [
    {
     "output_type": "stream",
     "name": "stdout",
     "output_type": "stream",
     "text": [
      "+-------------+--------------------+------------+----------+\n|CLASSIFICACAO|             GENEROS|NOMEOCUPACAO|      DATA|\n+-------------+--------------------+------------+----------+\n|            5|Comedy|Romance|Th...|  programmer|2000-12-12|\n|            5|Crime|Film-Noir|M...|  programmer|2000-12-12|\n|            5|     Action|Thriller|  programmer|2000-12-12|\n|            5|Action|Adventure|...|  programmer|2000-12-12|\n|            5|     Action|Thriller|  programmer|2000-12-12|\n|            5|Action|Romance|Th...|  programmer|2000-12-12|\n|            5|Crime|Drama|Thriller|  programmer|2000-12-12|\n|            4|Action|Sci-Fi|Thr...|  programmer|2000-12-12|\n|            4|     Action|Thriller|  programmer|2000-12-12|\n|            4|     Action|Thriller|  programmer|2000-12-12|\n+-------------+--------------------+------------+----------+\n\n"
     ]
    }
   ],
   "source": [
    "#5-Qual é o top 10 filmes de Thriller mais bem avaliados por programadores em 12 de dezembro de 2000?\n",
    "top10 = spark.sql(\"SELECT CLASSIFICACAO,GENEROS, NOMEOCUPACAO, dataformatada as DATA FROM TABELA_TEMPORARIA WHERE\"\n",
    "                   \"(NOMEOCUPACAO='programmer'\"\n",
    "                  \" AND GENEROS like '%Thriller%') AND dataformatada ='2000-12-12'\"\n",
    "                  \"ORDER BY Classificacao desc  limit 10\")\n",
    "top10.show()"
   ]
  },
  {
   "cell_type": "code",
   "execution_count": 0,
   "metadata": {
    "application/vnd.databricks.v1+cell": {
     "cellMetadata": {
      "byteLimit": 2048000,
      "rowLimit": 10000
     },
     "inputWidgets": {},
     "nuid": "c5f88e0a-66f7-45c1-bd20-6a57608ee7f5",
     "showTitle": false,
     "title": ""
    }
   },
   "outputs": [
    {
     "output_type": "stream",
     "name": "stdout",
     "output_type": "stream",
     "text": [
      "+--------+---------------------------------------------+----------------------------+------------+\n|SEXO    |GENEROS                                      |Qtd_Classificacoes_Distintas|NOMEOCUPACAO|\n+--------+---------------------------------------------+----------------------------+------------+\n|Feminino|Adventure|Children's|Comedy|Musical          |6                           |writer      |\n|Feminino|Adventure|Animation|Children's|Comedy|Fantasy|7                           |writer      |\n|Feminino|Adventure|Comedy|Musical                     |8                           |writer      |\n|Feminino|Adventure|Animation|Children's|Comedy|Musical|9                           |writer      |\n|Feminino|Adventure|Children's|Comedy                  |18                          |writer      |\n|Feminino|Adventure|Comedy|Sci-Fi                      |27                          |writer      |\n|Feminino|Adventure|Children's|Comedy|Fantasy          |27                          |writer      |\n|Feminino|Adventure|Comedy|Drama                       |29                          |writer      |\n|Feminino|Adventure|Comedy                             |38                          |writer      |\n+--------+---------------------------------------------+----------------------------+------------+\n\n"
     ]
    }
   ],
   "source": [
    "# Brincando com os dados\n",
    "# Quero saber a quantidade de classificações acima de 5, por generos, pelo sexo feminino com ocupação Writer\n",
    "analisegeral = spark.sql(\n",
    "    \"SELECT SEXO,GENEROS, COUNT(Classificacao) AS Qtd_Classificacoes_Distintas,NOMEOCUPACAO \" \n",
    "    \"FROM TABELA_TEMPORARIA \" \n",
    "    \"WHERE (GENEROS LIKE 'Adventure%' AND GENEROS LIKE '%Comedy%') \" \n",
    "    \"AND SEXO IN (SELECT DISTINCT SEXO FROM TABELA_TEMPORARIA WHERE SEXO = 'Feminino')\"\n",
    "    \"AND NOMEOCUPACAO = 'writer'\" \n",
    "    \"GROUP BY GENEROS,SEXO,NOMEOCUPACAO \" +\n",
    "    \"HAVING COUNT(Classificacao) >5 \"\n",
    "    \"ORDER BY 3 ASC\"\n",
    ")\n",
    "analisegeral.show(analisegeral.count(),truncate=False)"
   ]
  },
  {
   "cell_type": "code",
   "execution_count": 0,
   "metadata": {
    "application/vnd.databricks.v1+cell": {
     "cellMetadata": {
      "byteLimit": 2048000,
      "rowLimit": 10000
     },
     "inputWidgets": {},
     "nuid": "4ec73a96-0e79-4a8b-ae2b-9bed55b7b2c7",
     "showTitle": false,
     "title": ""
    }
   },
   "outputs": [],
   "source": []
  }
 ],
 "metadata": {
  "application/vnd.databricks.v1+notebook": {
   "dashboards": [],
   "language": "python",
   "notebookMetadata": {
    "pythonIndentUnit": 2
   },
   "notebookName": "Exercicio - RATINGS Resolução",
   "widgets": {}
  },
  "kernelspec": {
   "display_name": "Python 3",
   "language": "python",
   "name": "python3"
  },
  "language_info": {
   "codemirror_mode": {
    "name": "ipython",
    "version": 3
   },
   "file_extension": ".py",
   "mimetype": "text/x-python",
   "name": "python",
   "nbconvert_exporter": "python",
   "pygments_lexer": "ipython3",
   "version": "3.11.2"
  }
 },
 "nbformat": 4,
 "nbformat_minor": 0
}
